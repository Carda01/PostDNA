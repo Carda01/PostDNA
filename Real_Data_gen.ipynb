{
 "cells": [
  {
   "cell_type": "code",
   "execution_count": null,
   "metadata": {},
   "outputs": [
    {
     "name": "stdout",
     "output_type": "stream",
     "text": [
      "An error occurred: connection to server at \"localhost\" (::1), port 5432 failed: FATAL:  database \"postDNATest\" does not exist\n",
      "\n"
     ]
    },
    {
     "ename": "NameError",
     "evalue": "name 'conn' is not defined",
     "output_type": "error",
     "traceback": [
      "\u001b[0;31m---------------------------------------------------------------------------\u001b[0m",
      "\u001b[0;31mNameError\u001b[0m                                 Traceback (most recent call last)",
      "Cell \u001b[0;32mIn[2], line 44\u001b[0m\n\u001b[1;32m     40\u001b[0m     \u001b[38;5;28mprint\u001b[39m(\u001b[38;5;124mf\u001b[39m\u001b[38;5;124m\"\u001b[39m\u001b[38;5;124mAn error occurred: \u001b[39m\u001b[38;5;132;01m{\u001b[39;00me\u001b[38;5;132;01m}\u001b[39;00m\u001b[38;5;124m\"\u001b[39m)\n\u001b[1;32m     42\u001b[0m \u001b[38;5;28;01mfinally\u001b[39;00m:\n\u001b[1;32m     43\u001b[0m     \u001b[38;5;66;03m# Close the connection\u001b[39;00m\n\u001b[0;32m---> 44\u001b[0m     \u001b[38;5;28;01mif\u001b[39;00m \u001b[43mconn\u001b[49m:\n\u001b[1;32m     45\u001b[0m         cursor\u001b[38;5;241m.\u001b[39mclose()\n\u001b[1;32m     46\u001b[0m         conn\u001b[38;5;241m.\u001b[39mclose()\n",
      "\u001b[0;31mNameError\u001b[0m: name 'conn' is not defined"
     ]
    }
   ],
   "source": [
    "from Bio import SeqIO\n",
    "import gzip\n",
    "import psycopg2\n",
    "\n",
    "# Path to the FASTQ file\n",
    "file_path = \"SRR29098539.fastq.gz\"\n",
    "\n",
    "# Database connection details\n",
    "db_config = {\n",
    "    \"host\": \"localhost\",\n",
    "    \"dbname\": \"postdnatest\",\n",
    "    \"user\": \"postgres\",\n",
    "    \"port\": 5432\n",
    "}\n",
    "\n",
    "# Open and parse the FASTQ file\n",
    "with gzip.open(file_path, \"rt\") as fastq_file:\n",
    "    sequences = list(SeqIO.parse(fastq_file, \"fastq\"))\n",
    "\n",
    "# Connect to the PostgreSQL database\n",
    "try:\n",
    "    conn = psycopg2.connect(**db_config)\n",
    "    cursor = conn.cursor()\n",
    "\n",
    "    # Insert sequences into the database\n",
    "    for seq in sequences[:5]:  # Limiting to 5 for testing\n",
    "        seq_id = seq.id\n",
    "        sequence = str(seq.seq)\n",
    "        quality_scores = \",\".join(map(str, seq.letter_annotations[\"phred_quality\"]))\n",
    "        cursor.execute(\n",
    "            \"INSERT INTO sequences (seq_id, sequence, quality_scores) VALUES (%s, %s, %s)\",\n",
    "            (seq_id, sequence, quality_scores)\n",
    "        )\n",
    "\n",
    "    # Commit the transaction\n",
    "    conn.commit()\n",
    "    print(\"Data inserted successfully!\")\n",
    "\n",
    "except Exception as e:\n",
    "    print(f\"An error occurred: {e}\")\n",
    "\n",
    "finally:\n",
    "    # Close the connection\n",
    "    if conn:\n",
    "        cursor.close()\n",
    "        conn.close()\n"
   ]
  }
 ],
 "metadata": {
  "kernelspec": {
   "display_name": "Python (newenv)",
   "language": "python",
   "name": "newenv"
  },
  "language_info": {
   "codemirror_mode": {
    "name": "ipython",
    "version": 3
   },
   "file_extension": ".py",
   "mimetype": "text/x-python",
   "name": "python",
   "nbconvert_exporter": "python",
   "pygments_lexer": "ipython3",
   "version": "3.9.20"
  }
 },
 "nbformat": 4,
 "nbformat_minor": 2
}
